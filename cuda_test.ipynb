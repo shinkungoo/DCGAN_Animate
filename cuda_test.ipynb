{
 "cells": [
  {
   "cell_type": "markdown",
   "source": [
    "# CUDA 检测\n",
    "因为本神经网络的训练需要使用cuda，所以如果没有通过这个测试，并不推荐你运行该神经网络"
   ],
   "metadata": {
    "collapsed": false,
    "pycharm": {
     "name": "#%% md\n"
    }
   }
  },
  {
   "cell_type": "code",
   "execution_count": 1,
   "outputs": [
    {
     "name": "stdout",
     "output_type": "stream",
     "text": [
      "CUDA版本: 11.7\n",
      "Pytorch版本: 1.13.0+cu117\n",
      "显卡是否可用: 可用\n",
      "显卡数量: 1\n",
      "是否支持BF16数字格式: 支持\n",
      "当前显卡型号: NVIDIA GeForce RTX 3050 Ti Laptop GPU\n",
      "当前显卡的CUDA算力: (8, 6)\n"
     ]
    }
   ],
   "source": [
    "import torch\n",
    "print('CUDA版本:',torch.version.cuda)\n",
    "print('Pytorch版本:',torch.__version__)\n",
    "print('显卡是否可用:','可用' if(torch.cuda.is_available()) else '不可用')\n",
    "print('显卡数量:',torch.cuda.device_count())\n",
    "print('是否支持BF16数字格式:','支持' if (torch.cuda.is_bf16_supported()) else '不支持')\n",
    "print('当前显卡型号:',torch.cuda.get_device_name())\n",
    "print('当前显卡的CUDA算力:',torch.cuda.get_device_capability())"
   ],
   "metadata": {
    "collapsed": false,
    "pycharm": {
     "name": "#%%\n"
    }
   }
  }
 ],
 "metadata": {
  "kernelspec": {
   "display_name": "Python 3",
   "language": "python",
   "name": "python3"
  },
  "language_info": {
   "codemirror_mode": {
    "name": "ipython",
    "version": 2
   },
   "file_extension": ".py",
   "mimetype": "text/x-python",
   "name": "python",
   "nbconvert_exporter": "python",
   "pygments_lexer": "ipython2",
   "version": "2.7.6"
  }
 },
 "nbformat": 4,
 "nbformat_minor": 0
}